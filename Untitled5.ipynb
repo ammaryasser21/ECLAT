{
  "nbformat": 4,
  "nbformat_minor": 0,
  "metadata": {
    "colab": {
      "provenance": [],
      "authorship_tag": "ABX9TyMP1F+Nb7p1oZuP4yHg+XPG",
      "include_colab_link": true
    },
    "kernelspec": {
      "name": "python3",
      "display_name": "Python 3"
    },
    "language_info": {
      "name": "python"
    }
  },
  "cells": [
    {
      "cell_type": "markdown",
      "metadata": {
        "id": "view-in-github",
        "colab_type": "text"
      },
      "source": [
        "<a href=\"https://colab.research.google.com/github/ammaryasser21/project_OS/blob/main/Untitled5.ipynb\" target=\"_parent\"><img src=\"https://colab.research.google.com/assets/colab-badge.svg\" alt=\"Open In Colab\"/></a>"
      ]
    },
    {
      "cell_type": "code",
      "execution_count": 262,
      "metadata": {
        "id": "BIIGDp_GivQv"
      },
      "outputs": [],
      "source": [
        "from collections import defaultdict\n",
        "from itertools import combinations\n",
        "import pandas as pd\n",
        "\n",
        "def read_data(file_path):\n",
        "    df = pd.read_excel(file_path)\n",
        "    return df"
      ]
    },
    {
      "cell_type": "code",
      "source": [
        "def format_data(df, min_support):\n",
        "    formatted_df = pd.DataFrame(df)\n",
        "\n",
        "    if 'TiD' in df.columns:\n",
        "           TiD = df.columns[0]\n",
        "           items = df.columns[1]\n",
        "           data_tuples = [(row['TiD'], row['items']) for index, row in df.iterrows()]\n",
        "           item_tid_map = defaultdict(set)\n",
        "           for tid, items in data_tuples:\n",
        "             items_list = items.split(',')\n",
        "             for item in items_list:\n",
        "               item_tid_map[item].add(tid)\n",
        "               formatted_output = {}\n",
        "\n",
        "           for item, tid_set in item_tid_map.items():\n",
        "            formatted_output[item] = ','.join(map(str, sorted(tid_set)))\n",
        "\n",
        "           for item, tid_set in sorted(formatted_output.items()):\n",
        "            print(f\"{item: <5} {tid_set}\")\n",
        "\n",
        "           formatted_df = pd.DataFrame(formatted_output.items(), columns=['Item', 'TiD_set'])\n",
        "           formatted_df.columns = ['itemset', 'TiD_set']\n",
        "           itemset = formatted_df.columns[0]\n",
        "           TiD_set = formatted_df.columns[1]\n",
        "           print(\"The data is converted to vertical format.\")\n",
        "    else:\n",
        "          formatted_df=pd.DataFrame(df)\n",
        "          formatted_df.columns = ['itemset', 'TiD_set']\n",
        "          itemset = formatted_df.columns[0]\n",
        "          TiD_set = formatted_df.columns[1]\n",
        "          print(\"The data is already structured vertically.\")\n",
        "\n",
        "    formatted_df['TiD_set'] = formatted_df['TiD_set'].apply(lambda x: x if len(x.split(',')) >= min_support else None)\n",
        "    formatted_df = formatted_df[formatted_df['TiD_set'].notna()]\n",
        "    return formatted_df"
      ],
      "metadata": {
        "id": "mmYDZ-s4jq_k"
      },
      "execution_count": 263,
      "outputs": []
    },
    {
      "cell_type": "code",
      "source": [
        "def remove_T(row):\n",
        "    if any(x.lower().startswith('t') for x in row.split(',')):\n",
        "        return ','.join([x[1:] if x.lower().startswith('t') else x for x in row.split(',')])\n",
        "    return row"
      ],
      "metadata": {
        "id": "41eNUiIjFgQm"
      },
      "execution_count": 264,
      "outputs": []
    },
    {
      "cell_type": "code",
      "source": [
        "def generate_dict_from_df(formatted_df):\n",
        "    formatted_dict = {\n",
        "        row['itemset']: [int(num) for num in row['TiD_set'].split(',')] for _, row in formatted_df.iterrows()\n",
        "    }\n",
        "    return formatted_dict\n"
      ],
      "metadata": {
        "id": "GA9jtltNkD5b"
      },
      "execution_count": 265,
      "outputs": []
    },
    {
      "cell_type": "code",
      "source": [
        "def combine_items(filtered_items):\n",
        "    result = []\n",
        "    visited = set()\n",
        "\n",
        "    for i in range(len(filtered_items)):\n",
        "        for j in range(len(filtered_items)):\n",
        "            if i != j and filtered_items[i][1:] == filtered_items[j][:-1] and filtered_items[i][0] != filtered_items[j][-1]:\n",
        "                combined = filtered_items[i][0] + filtered_items[j]\n",
        "                if combined not in visited:\n",
        "                    result.append(combined)\n",
        "                    visited.add(combined)\n",
        "\n",
        "    return result"
      ],
      "metadata": {
        "id": "hy7VsH1zllgU"
      },
      "execution_count": 266,
      "outputs": []
    },
    {
      "cell_type": "code",
      "source": [
        "def filter_items(result, formatted_dict, min_support):\n",
        "    filtered_items = []\n",
        "    for item in result:\n",
        "        appearances = [formatted_dict[char] for char in item if char in formatted_dict]\n",
        "        appearances = set.intersection(*[set(app) for app in appearances])\n",
        "        if len(appearances) >= min_support:\n",
        "            filtered_items.append(item)\n",
        "    return filtered_items\n"
      ],
      "metadata": {
        "id": "HItwLUXqkIA4"
      },
      "execution_count": 267,
      "outputs": []
    },
    {
      "cell_type": "code",
      "source": [
        "def generate_frequent_list(formatted_dict,min_support,formatted_df):\n",
        "    frequent_list = list(formatted_df['itemset'])\n",
        "    all_combinations = list(combinations(frequent_list, 2))\n",
        "    joined_combinations = [\"\".join(comb) for comb in all_combinations]\n",
        "    filtered_items = filter_items(joined_combinations, formatted_dict, min_support)\n",
        "    frequent_list+=filtered_items\n",
        "    while True:\n",
        "        result = combine_items(filtered_items)\n",
        "        filtered_items = filter_items(result, formatted_dict, min_support)\n",
        "        if not filtered_items:\n",
        "            break\n",
        "        frequent_list += filtered_items\n",
        "    return frequent_list"
      ],
      "metadata": {
        "id": "pVUiwPWDNVuB"
      },
      "execution_count": 268,
      "outputs": []
    },
    {
      "cell_type": "code",
      "source": [
        "def generate_association_rules(frequent_list):\n",
        "    association_rules = []\n",
        "    for item in frequent_list:\n",
        "        other_items = [x for x in frequent_list if x != item]\n",
        "        for other_item in other_items:\n",
        "            rule = f\"{item} -> {other_item}\"\n",
        "            association_rules.append(rule)\n",
        "    return association_rules"
      ],
      "metadata": {
        "id": "SbsKOj-UkMTa"
      },
      "execution_count": 269,
      "outputs": []
    },
    {
      "cell_type": "code",
      "source": [
        "def generate_strong_association_rules(frequent_list, min_confidence):\n",
        "    strong_association_rules = []\n",
        "    for item in frequent_list:\n",
        "        other_items = [x for x in frequent_list if x != item]\n",
        "        for other_item in other_items:\n",
        "            support_X = frequent_list.count(item) / len(frequent_list)\n",
        "            support_XY = frequent_list.count(item + other_item) / len(frequent_list)\n",
        "            confidence = support_XY / support_X if support_X > 0 else 0\n",
        "\n",
        "            if confidence >= min_confidence:\n",
        "                rule = f\"{item} -> {other_item}\"\n",
        "                strong_association_rules.append(rule)\n",
        "    return strong_association_rules"
      ],
      "metadata": {
        "id": "5ycfT5JwkTDS"
      },
      "execution_count": 270,
      "outputs": []
    },
    {
      "cell_type": "code",
      "source": [
        "def calculate_support(combinations_list, appearances_dict):\n",
        "    lens_of_appearance = {}\n",
        "\n",
        "    for comb in combinations_list:\n",
        "        count = 0\n",
        "        for char in comb:\n",
        "            if char not in appearances_dict:\n",
        "                count = 0\n",
        "                break\n",
        "            else:\n",
        "                if count == 0:\n",
        "                    count = len(appearances_dict[char])\n",
        "                else:\n",
        "                    count = len(set(appearances_dict[char]) & set(range(1, count+1)))\n",
        "        lens_of_appearance[comb] = count\n",
        "\n",
        "    return lens_of_appearance"
      ],
      "metadata": {
        "id": "kIeI_qQDmziP"
      },
      "execution_count": 271,
      "outputs": []
    },
    {
      "cell_type": "code",
      "source": [
        "def calculate_lift(rule, support_values):\n",
        "    lhs, rhs = rule.split(' -> ')\n",
        "    support_lhs = support_values.get(lhs, 0)\n",
        "    support_rhs = support_values.get(rhs, 0)\n",
        "    combined_support = support_values.get(lhs + rhs, 0)\n",
        "\n",
        "    if support_lhs == 0 or support_rhs == 0 or combined_support == 0:\n",
        "        return 0\n",
        "    lift = combined_support / (support_lhs * support_rhs)\n",
        "    return lift"
      ],
      "metadata": {
        "id": "7ySzLVWmkYdk"
      },
      "execution_count": 272,
      "outputs": []
    },
    {
      "cell_type": "code",
      "source": [
        "def ECLAT(file_path, min_support, min_confidence):\n",
        "    df = read_data(file_path)\n",
        "    print(df)\n",
        "    formatted_df = format_data(df, min_support)\n",
        "    print(formatted_df)\n",
        "    formatted_df['TiD_set'] = formatted_df['TiD_set'].apply(remove_T)\n",
        "    print(formatted_df)\n",
        "    formatted_dict = generate_dict_from_df(formatted_df)\n",
        "    print(formatted_dict)\n",
        "    frequent_list=generate_frequent_list(formatted_dict,min_support,formatted_df)\n",
        "    print(frequent_list)\n",
        "    rules = generate_association_rules(frequent_list)\n",
        "    print(rules)\n",
        "    strong_rules = generate_strong_association_rules(frequent_list, min_confidence)\n",
        "    print(strong_rules)\n",
        "    support = calculate_support(frequent_list, formatted_dict)\n",
        "    print(support)\n",
        "    for rule in strong_rules:\n",
        "        lift = calculate_lift(rule, support)\n",
        "        print(f\"Lift for rule '{rule}': {lift}\")\n"
      ],
      "metadata": {
        "id": "cIQT2_zZkdUF"
      },
      "execution_count": 273,
      "outputs": []
    },
    {
      "cell_type": "code",
      "source": [
        "file_path_1 = '/content/Horizontal_Format.xlsx'\n",
        "file_path_2 = '/content/Book1.xlsx'\n",
        "ECLAT(file_path_1, 2, 0.3)\n",
        "ECLAT(file_path_2, 2, 0.3)"
      ],
      "metadata": {
        "colab": {
          "base_uri": "https://localhost:8080/"
        },
        "id": "z-BRyzYPkhxK",
        "outputId": "70b99ac4-d339-421e-fe3b-4b42e4941f4e"
      },
      "execution_count": 274,
      "outputs": [
        {
          "output_type": "stream",
          "name": "stdout",
          "text": [
            "   TiD        items\n",
            "0    1  M,O,N,K,E,Y\n",
            "1    2  D,O,N,K,E,Y\n",
            "2    3      M,A,K,E\n",
            "3    4    M,U,C,K,Y\n",
            "4    5  C,O,O,K,I,E\n",
            "A     3\n",
            "C     4,5\n",
            "D     2\n",
            "E     1,2,3,5\n",
            "I     5\n",
            "K     1,2,3,4,5\n",
            "M     1,3,4\n",
            "N     1,2\n",
            "O     1,2,5\n",
            "U     4\n",
            "Y     1,2,4\n",
            "The data is converted to vertical format.\n",
            "  itemset    TiD_set\n",
            "0       M      1,3,4\n",
            "1       O      1,2,5\n",
            "2       N        1,2\n",
            "3       K  1,2,3,4,5\n",
            "4       E    1,2,3,5\n",
            "5       Y      1,2,4\n",
            "9       C        4,5\n",
            "  itemset    TiD_set\n",
            "0       M      1,3,4\n",
            "1       O      1,2,5\n",
            "2       N        1,2\n",
            "3       K  1,2,3,4,5\n",
            "4       E    1,2,3,5\n",
            "5       Y      1,2,4\n",
            "9       C        4,5\n",
            "{'M': [1, 3, 4], 'O': [1, 2, 5], 'N': [1, 2], 'K': [1, 2, 3, 4, 5], 'E': [1, 2, 3, 5], 'Y': [1, 2, 4], 'C': [4, 5]}\n",
            "['M', 'O', 'N', 'K', 'E', 'Y', 'C', 'MK', 'ME', 'MY', 'ON', 'OK', 'OE', 'OY', 'NK', 'NE', 'NY', 'KE', 'KY', 'KC', 'EY', 'MKE', 'MKY', 'ONK', 'ONE', 'ONY', 'OKE', 'OKY', 'OEY', 'NKE', 'NKY', 'NEY', 'KEY', 'ONKE', 'ONKY', 'ONEY', 'OKEY', 'NKEY', 'ONKEY']\n",
            "['M -> O', 'M -> N', 'M -> K', 'M -> E', 'M -> Y', 'M -> C', 'M -> MK', 'M -> ME', 'M -> MY', 'M -> ON', 'M -> OK', 'M -> OE', 'M -> OY', 'M -> NK', 'M -> NE', 'M -> NY', 'M -> KE', 'M -> KY', 'M -> KC', 'M -> EY', 'M -> MKE', 'M -> MKY', 'M -> ONK', 'M -> ONE', 'M -> ONY', 'M -> OKE', 'M -> OKY', 'M -> OEY', 'M -> NKE', 'M -> NKY', 'M -> NEY', 'M -> KEY', 'M -> ONKE', 'M -> ONKY', 'M -> ONEY', 'M -> OKEY', 'M -> NKEY', 'M -> ONKEY', 'O -> M', 'O -> N', 'O -> K', 'O -> E', 'O -> Y', 'O -> C', 'O -> MK', 'O -> ME', 'O -> MY', 'O -> ON', 'O -> OK', 'O -> OE', 'O -> OY', 'O -> NK', 'O -> NE', 'O -> NY', 'O -> KE', 'O -> KY', 'O -> KC', 'O -> EY', 'O -> MKE', 'O -> MKY', 'O -> ONK', 'O -> ONE', 'O -> ONY', 'O -> OKE', 'O -> OKY', 'O -> OEY', 'O -> NKE', 'O -> NKY', 'O -> NEY', 'O -> KEY', 'O -> ONKE', 'O -> ONKY', 'O -> ONEY', 'O -> OKEY', 'O -> NKEY', 'O -> ONKEY', 'N -> M', 'N -> O', 'N -> K', 'N -> E', 'N -> Y', 'N -> C', 'N -> MK', 'N -> ME', 'N -> MY', 'N -> ON', 'N -> OK', 'N -> OE', 'N -> OY', 'N -> NK', 'N -> NE', 'N -> NY', 'N -> KE', 'N -> KY', 'N -> KC', 'N -> EY', 'N -> MKE', 'N -> MKY', 'N -> ONK', 'N -> ONE', 'N -> ONY', 'N -> OKE', 'N -> OKY', 'N -> OEY', 'N -> NKE', 'N -> NKY', 'N -> NEY', 'N -> KEY', 'N -> ONKE', 'N -> ONKY', 'N -> ONEY', 'N -> OKEY', 'N -> NKEY', 'N -> ONKEY', 'K -> M', 'K -> O', 'K -> N', 'K -> E', 'K -> Y', 'K -> C', 'K -> MK', 'K -> ME', 'K -> MY', 'K -> ON', 'K -> OK', 'K -> OE', 'K -> OY', 'K -> NK', 'K -> NE', 'K -> NY', 'K -> KE', 'K -> KY', 'K -> KC', 'K -> EY', 'K -> MKE', 'K -> MKY', 'K -> ONK', 'K -> ONE', 'K -> ONY', 'K -> OKE', 'K -> OKY', 'K -> OEY', 'K -> NKE', 'K -> NKY', 'K -> NEY', 'K -> KEY', 'K -> ONKE', 'K -> ONKY', 'K -> ONEY', 'K -> OKEY', 'K -> NKEY', 'K -> ONKEY', 'E -> M', 'E -> O', 'E -> N', 'E -> K', 'E -> Y', 'E -> C', 'E -> MK', 'E -> ME', 'E -> MY', 'E -> ON', 'E -> OK', 'E -> OE', 'E -> OY', 'E -> NK', 'E -> NE', 'E -> NY', 'E -> KE', 'E -> KY', 'E -> KC', 'E -> EY', 'E -> MKE', 'E -> MKY', 'E -> ONK', 'E -> ONE', 'E -> ONY', 'E -> OKE', 'E -> OKY', 'E -> OEY', 'E -> NKE', 'E -> NKY', 'E -> NEY', 'E -> KEY', 'E -> ONKE', 'E -> ONKY', 'E -> ONEY', 'E -> OKEY', 'E -> NKEY', 'E -> ONKEY', 'Y -> M', 'Y -> O', 'Y -> N', 'Y -> K', 'Y -> E', 'Y -> C', 'Y -> MK', 'Y -> ME', 'Y -> MY', 'Y -> ON', 'Y -> OK', 'Y -> OE', 'Y -> OY', 'Y -> NK', 'Y -> NE', 'Y -> NY', 'Y -> KE', 'Y -> KY', 'Y -> KC', 'Y -> EY', 'Y -> MKE', 'Y -> MKY', 'Y -> ONK', 'Y -> ONE', 'Y -> ONY', 'Y -> OKE', 'Y -> OKY', 'Y -> OEY', 'Y -> NKE', 'Y -> NKY', 'Y -> NEY', 'Y -> KEY', 'Y -> ONKE', 'Y -> ONKY', 'Y -> ONEY', 'Y -> OKEY', 'Y -> NKEY', 'Y -> ONKEY', 'C -> M', 'C -> O', 'C -> N', 'C -> K', 'C -> E', 'C -> Y', 'C -> MK', 'C -> ME', 'C -> MY', 'C -> ON', 'C -> OK', 'C -> OE', 'C -> OY', 'C -> NK', 'C -> NE', 'C -> NY', 'C -> KE', 'C -> KY', 'C -> KC', 'C -> EY', 'C -> MKE', 'C -> MKY', 'C -> ONK', 'C -> ONE', 'C -> ONY', 'C -> OKE', 'C -> OKY', 'C -> OEY', 'C -> NKE', 'C -> NKY', 'C -> NEY', 'C -> KEY', 'C -> ONKE', 'C -> ONKY', 'C -> ONEY', 'C -> OKEY', 'C -> NKEY', 'C -> ONKEY', 'MK -> M', 'MK -> O', 'MK -> N', 'MK -> K', 'MK -> E', 'MK -> Y', 'MK -> C', 'MK -> ME', 'MK -> MY', 'MK -> ON', 'MK -> OK', 'MK -> OE', 'MK -> OY', 'MK -> NK', 'MK -> NE', 'MK -> NY', 'MK -> KE', 'MK -> KY', 'MK -> KC', 'MK -> EY', 'MK -> MKE', 'MK -> MKY', 'MK -> ONK', 'MK -> ONE', 'MK -> ONY', 'MK -> OKE', 'MK -> OKY', 'MK -> OEY', 'MK -> NKE', 'MK -> NKY', 'MK -> NEY', 'MK -> KEY', 'MK -> ONKE', 'MK -> ONKY', 'MK -> ONEY', 'MK -> OKEY', 'MK -> NKEY', 'MK -> ONKEY', 'ME -> M', 'ME -> O', 'ME -> N', 'ME -> K', 'ME -> E', 'ME -> Y', 'ME -> C', 'ME -> MK', 'ME -> MY', 'ME -> ON', 'ME -> OK', 'ME -> OE', 'ME -> OY', 'ME -> NK', 'ME -> NE', 'ME -> NY', 'ME -> KE', 'ME -> KY', 'ME -> KC', 'ME -> EY', 'ME -> MKE', 'ME -> MKY', 'ME -> ONK', 'ME -> ONE', 'ME -> ONY', 'ME -> OKE', 'ME -> OKY', 'ME -> OEY', 'ME -> NKE', 'ME -> NKY', 'ME -> NEY', 'ME -> KEY', 'ME -> ONKE', 'ME -> ONKY', 'ME -> ONEY', 'ME -> OKEY', 'ME -> NKEY', 'ME -> ONKEY', 'MY -> M', 'MY -> O', 'MY -> N', 'MY -> K', 'MY -> E', 'MY -> Y', 'MY -> C', 'MY -> MK', 'MY -> ME', 'MY -> ON', 'MY -> OK', 'MY -> OE', 'MY -> OY', 'MY -> NK', 'MY -> NE', 'MY -> NY', 'MY -> KE', 'MY -> KY', 'MY -> KC', 'MY -> EY', 'MY -> MKE', 'MY -> MKY', 'MY -> ONK', 'MY -> ONE', 'MY -> ONY', 'MY -> OKE', 'MY -> OKY', 'MY -> OEY', 'MY -> NKE', 'MY -> NKY', 'MY -> NEY', 'MY -> KEY', 'MY -> ONKE', 'MY -> ONKY', 'MY -> ONEY', 'MY -> OKEY', 'MY -> NKEY', 'MY -> ONKEY', 'ON -> M', 'ON -> O', 'ON -> N', 'ON -> K', 'ON -> E', 'ON -> Y', 'ON -> C', 'ON -> MK', 'ON -> ME', 'ON -> MY', 'ON -> OK', 'ON -> OE', 'ON -> OY', 'ON -> NK', 'ON -> NE', 'ON -> NY', 'ON -> KE', 'ON -> KY', 'ON -> KC', 'ON -> EY', 'ON -> MKE', 'ON -> MKY', 'ON -> ONK', 'ON -> ONE', 'ON -> ONY', 'ON -> OKE', 'ON -> OKY', 'ON -> OEY', 'ON -> NKE', 'ON -> NKY', 'ON -> NEY', 'ON -> KEY', 'ON -> ONKE', 'ON -> ONKY', 'ON -> ONEY', 'ON -> OKEY', 'ON -> NKEY', 'ON -> ONKEY', 'OK -> M', 'OK -> O', 'OK -> N', 'OK -> K', 'OK -> E', 'OK -> Y', 'OK -> C', 'OK -> MK', 'OK -> ME', 'OK -> MY', 'OK -> ON', 'OK -> OE', 'OK -> OY', 'OK -> NK', 'OK -> NE', 'OK -> NY', 'OK -> KE', 'OK -> KY', 'OK -> KC', 'OK -> EY', 'OK -> MKE', 'OK -> MKY', 'OK -> ONK', 'OK -> ONE', 'OK -> ONY', 'OK -> OKE', 'OK -> OKY', 'OK -> OEY', 'OK -> NKE', 'OK -> NKY', 'OK -> NEY', 'OK -> KEY', 'OK -> ONKE', 'OK -> ONKY', 'OK -> ONEY', 'OK -> OKEY', 'OK -> NKEY', 'OK -> ONKEY', 'OE -> M', 'OE -> O', 'OE -> N', 'OE -> K', 'OE -> E', 'OE -> Y', 'OE -> C', 'OE -> MK', 'OE -> ME', 'OE -> MY', 'OE -> ON', 'OE -> OK', 'OE -> OY', 'OE -> NK', 'OE -> NE', 'OE -> NY', 'OE -> KE', 'OE -> KY', 'OE -> KC', 'OE -> EY', 'OE -> MKE', 'OE -> MKY', 'OE -> ONK', 'OE -> ONE', 'OE -> ONY', 'OE -> OKE', 'OE -> OKY', 'OE -> OEY', 'OE -> NKE', 'OE -> NKY', 'OE -> NEY', 'OE -> KEY', 'OE -> ONKE', 'OE -> ONKY', 'OE -> ONEY', 'OE -> OKEY', 'OE -> NKEY', 'OE -> ONKEY', 'OY -> M', 'OY -> O', 'OY -> N', 'OY -> K', 'OY -> E', 'OY -> Y', 'OY -> C', 'OY -> MK', 'OY -> ME', 'OY -> MY', 'OY -> ON', 'OY -> OK', 'OY -> OE', 'OY -> NK', 'OY -> NE', 'OY -> NY', 'OY -> KE', 'OY -> KY', 'OY -> KC', 'OY -> EY', 'OY -> MKE', 'OY -> MKY', 'OY -> ONK', 'OY -> ONE', 'OY -> ONY', 'OY -> OKE', 'OY -> OKY', 'OY -> OEY', 'OY -> NKE', 'OY -> NKY', 'OY -> NEY', 'OY -> KEY', 'OY -> ONKE', 'OY -> ONKY', 'OY -> ONEY', 'OY -> OKEY', 'OY -> NKEY', 'OY -> ONKEY', 'NK -> M', 'NK -> O', 'NK -> N', 'NK -> K', 'NK -> E', 'NK -> Y', 'NK -> C', 'NK -> MK', 'NK -> ME', 'NK -> MY', 'NK -> ON', 'NK -> OK', 'NK -> OE', 'NK -> OY', 'NK -> NE', 'NK -> NY', 'NK -> KE', 'NK -> KY', 'NK -> KC', 'NK -> EY', 'NK -> MKE', 'NK -> MKY', 'NK -> ONK', 'NK -> ONE', 'NK -> ONY', 'NK -> OKE', 'NK -> OKY', 'NK -> OEY', 'NK -> NKE', 'NK -> NKY', 'NK -> NEY', 'NK -> KEY', 'NK -> ONKE', 'NK -> ONKY', 'NK -> ONEY', 'NK -> OKEY', 'NK -> NKEY', 'NK -> ONKEY', 'NE -> M', 'NE -> O', 'NE -> N', 'NE -> K', 'NE -> E', 'NE -> Y', 'NE -> C', 'NE -> MK', 'NE -> ME', 'NE -> MY', 'NE -> ON', 'NE -> OK', 'NE -> OE', 'NE -> OY', 'NE -> NK', 'NE -> NY', 'NE -> KE', 'NE -> KY', 'NE -> KC', 'NE -> EY', 'NE -> MKE', 'NE -> MKY', 'NE -> ONK', 'NE -> ONE', 'NE -> ONY', 'NE -> OKE', 'NE -> OKY', 'NE -> OEY', 'NE -> NKE', 'NE -> NKY', 'NE -> NEY', 'NE -> KEY', 'NE -> ONKE', 'NE -> ONKY', 'NE -> ONEY', 'NE -> OKEY', 'NE -> NKEY', 'NE -> ONKEY', 'NY -> M', 'NY -> O', 'NY -> N', 'NY -> K', 'NY -> E', 'NY -> Y', 'NY -> C', 'NY -> MK', 'NY -> ME', 'NY -> MY', 'NY -> ON', 'NY -> OK', 'NY -> OE', 'NY -> OY', 'NY -> NK', 'NY -> NE', 'NY -> KE', 'NY -> KY', 'NY -> KC', 'NY -> EY', 'NY -> MKE', 'NY -> MKY', 'NY -> ONK', 'NY -> ONE', 'NY -> ONY', 'NY -> OKE', 'NY -> OKY', 'NY -> OEY', 'NY -> NKE', 'NY -> NKY', 'NY -> NEY', 'NY -> KEY', 'NY -> ONKE', 'NY -> ONKY', 'NY -> ONEY', 'NY -> OKEY', 'NY -> NKEY', 'NY -> ONKEY', 'KE -> M', 'KE -> O', 'KE -> N', 'KE -> K', 'KE -> E', 'KE -> Y', 'KE -> C', 'KE -> MK', 'KE -> ME', 'KE -> MY', 'KE -> ON', 'KE -> OK', 'KE -> OE', 'KE -> OY', 'KE -> NK', 'KE -> NE', 'KE -> NY', 'KE -> KY', 'KE -> KC', 'KE -> EY', 'KE -> MKE', 'KE -> MKY', 'KE -> ONK', 'KE -> ONE', 'KE -> ONY', 'KE -> OKE', 'KE -> OKY', 'KE -> OEY', 'KE -> NKE', 'KE -> NKY', 'KE -> NEY', 'KE -> KEY', 'KE -> ONKE', 'KE -> ONKY', 'KE -> ONEY', 'KE -> OKEY', 'KE -> NKEY', 'KE -> ONKEY', 'KY -> M', 'KY -> O', 'KY -> N', 'KY -> K', 'KY -> E', 'KY -> Y', 'KY -> C', 'KY -> MK', 'KY -> ME', 'KY -> MY', 'KY -> ON', 'KY -> OK', 'KY -> OE', 'KY -> OY', 'KY -> NK', 'KY -> NE', 'KY -> NY', 'KY -> KE', 'KY -> KC', 'KY -> EY', 'KY -> MKE', 'KY -> MKY', 'KY -> ONK', 'KY -> ONE', 'KY -> ONY', 'KY -> OKE', 'KY -> OKY', 'KY -> OEY', 'KY -> NKE', 'KY -> NKY', 'KY -> NEY', 'KY -> KEY', 'KY -> ONKE', 'KY -> ONKY', 'KY -> ONEY', 'KY -> OKEY', 'KY -> NKEY', 'KY -> ONKEY', 'KC -> M', 'KC -> O', 'KC -> N', 'KC -> K', 'KC -> E', 'KC -> Y', 'KC -> C', 'KC -> MK', 'KC -> ME', 'KC -> MY', 'KC -> ON', 'KC -> OK', 'KC -> OE', 'KC -> OY', 'KC -> NK', 'KC -> NE', 'KC -> NY', 'KC -> KE', 'KC -> KY', 'KC -> EY', 'KC -> MKE', 'KC -> MKY', 'KC -> ONK', 'KC -> ONE', 'KC -> ONY', 'KC -> OKE', 'KC -> OKY', 'KC -> OEY', 'KC -> NKE', 'KC -> NKY', 'KC -> NEY', 'KC -> KEY', 'KC -> ONKE', 'KC -> ONKY', 'KC -> ONEY', 'KC -> OKEY', 'KC -> NKEY', 'KC -> ONKEY', 'EY -> M', 'EY -> O', 'EY -> N', 'EY -> K', 'EY -> E', 'EY -> Y', 'EY -> C', 'EY -> MK', 'EY -> ME', 'EY -> MY', 'EY -> ON', 'EY -> OK', 'EY -> OE', 'EY -> OY', 'EY -> NK', 'EY -> NE', 'EY -> NY', 'EY -> KE', 'EY -> KY', 'EY -> KC', 'EY -> MKE', 'EY -> MKY', 'EY -> ONK', 'EY -> ONE', 'EY -> ONY', 'EY -> OKE', 'EY -> OKY', 'EY -> OEY', 'EY -> NKE', 'EY -> NKY', 'EY -> NEY', 'EY -> KEY', 'EY -> ONKE', 'EY -> ONKY', 'EY -> ONEY', 'EY -> OKEY', 'EY -> NKEY', 'EY -> ONKEY', 'MKE -> M', 'MKE -> O', 'MKE -> N', 'MKE -> K', 'MKE -> E', 'MKE -> Y', 'MKE -> C', 'MKE -> MK', 'MKE -> ME', 'MKE -> MY', 'MKE -> ON', 'MKE -> OK', 'MKE -> OE', 'MKE -> OY', 'MKE -> NK', 'MKE -> NE', 'MKE -> NY', 'MKE -> KE', 'MKE -> KY', 'MKE -> KC', 'MKE -> EY', 'MKE -> MKY', 'MKE -> ONK', 'MKE -> ONE', 'MKE -> ONY', 'MKE -> OKE', 'MKE -> OKY', 'MKE -> OEY', 'MKE -> NKE', 'MKE -> NKY', 'MKE -> NEY', 'MKE -> KEY', 'MKE -> ONKE', 'MKE -> ONKY', 'MKE -> ONEY', 'MKE -> OKEY', 'MKE -> NKEY', 'MKE -> ONKEY', 'MKY -> M', 'MKY -> O', 'MKY -> N', 'MKY -> K', 'MKY -> E', 'MKY -> Y', 'MKY -> C', 'MKY -> MK', 'MKY -> ME', 'MKY -> MY', 'MKY -> ON', 'MKY -> OK', 'MKY -> OE', 'MKY -> OY', 'MKY -> NK', 'MKY -> NE', 'MKY -> NY', 'MKY -> KE', 'MKY -> KY', 'MKY -> KC', 'MKY -> EY', 'MKY -> MKE', 'MKY -> ONK', 'MKY -> ONE', 'MKY -> ONY', 'MKY -> OKE', 'MKY -> OKY', 'MKY -> OEY', 'MKY -> NKE', 'MKY -> NKY', 'MKY -> NEY', 'MKY -> KEY', 'MKY -> ONKE', 'MKY -> ONKY', 'MKY -> ONEY', 'MKY -> OKEY', 'MKY -> NKEY', 'MKY -> ONKEY', 'ONK -> M', 'ONK -> O', 'ONK -> N', 'ONK -> K', 'ONK -> E', 'ONK -> Y', 'ONK -> C', 'ONK -> MK', 'ONK -> ME', 'ONK -> MY', 'ONK -> ON', 'ONK -> OK', 'ONK -> OE', 'ONK -> OY', 'ONK -> NK', 'ONK -> NE', 'ONK -> NY', 'ONK -> KE', 'ONK -> KY', 'ONK -> KC', 'ONK -> EY', 'ONK -> MKE', 'ONK -> MKY', 'ONK -> ONE', 'ONK -> ONY', 'ONK -> OKE', 'ONK -> OKY', 'ONK -> OEY', 'ONK -> NKE', 'ONK -> NKY', 'ONK -> NEY', 'ONK -> KEY', 'ONK -> ONKE', 'ONK -> ONKY', 'ONK -> ONEY', 'ONK -> OKEY', 'ONK -> NKEY', 'ONK -> ONKEY', 'ONE -> M', 'ONE -> O', 'ONE -> N', 'ONE -> K', 'ONE -> E', 'ONE -> Y', 'ONE -> C', 'ONE -> MK', 'ONE -> ME', 'ONE -> MY', 'ONE -> ON', 'ONE -> OK', 'ONE -> OE', 'ONE -> OY', 'ONE -> NK', 'ONE -> NE', 'ONE -> NY', 'ONE -> KE', 'ONE -> KY', 'ONE -> KC', 'ONE -> EY', 'ONE -> MKE', 'ONE -> MKY', 'ONE -> ONK', 'ONE -> ONY', 'ONE -> OKE', 'ONE -> OKY', 'ONE -> OEY', 'ONE -> NKE', 'ONE -> NKY', 'ONE -> NEY', 'ONE -> KEY', 'ONE -> ONKE', 'ONE -> ONKY', 'ONE -> ONEY', 'ONE -> OKEY', 'ONE -> NKEY', 'ONE -> ONKEY', 'ONY -> M', 'ONY -> O', 'ONY -> N', 'ONY -> K', 'ONY -> E', 'ONY -> Y', 'ONY -> C', 'ONY -> MK', 'ONY -> ME', 'ONY -> MY', 'ONY -> ON', 'ONY -> OK', 'ONY -> OE', 'ONY -> OY', 'ONY -> NK', 'ONY -> NE', 'ONY -> NY', 'ONY -> KE', 'ONY -> KY', 'ONY -> KC', 'ONY -> EY', 'ONY -> MKE', 'ONY -> MKY', 'ONY -> ONK', 'ONY -> ONE', 'ONY -> OKE', 'ONY -> OKY', 'ONY -> OEY', 'ONY -> NKE', 'ONY -> NKY', 'ONY -> NEY', 'ONY -> KEY', 'ONY -> ONKE', 'ONY -> ONKY', 'ONY -> ONEY', 'ONY -> OKEY', 'ONY -> NKEY', 'ONY -> ONKEY', 'OKE -> M', 'OKE -> O', 'OKE -> N', 'OKE -> K', 'OKE -> E', 'OKE -> Y', 'OKE -> C', 'OKE -> MK', 'OKE -> ME', 'OKE -> MY', 'OKE -> ON', 'OKE -> OK', 'OKE -> OE', 'OKE -> OY', 'OKE -> NK', 'OKE -> NE', 'OKE -> NY', 'OKE -> KE', 'OKE -> KY', 'OKE -> KC', 'OKE -> EY', 'OKE -> MKE', 'OKE -> MKY', 'OKE -> ONK', 'OKE -> ONE', 'OKE -> ONY', 'OKE -> OKY', 'OKE -> OEY', 'OKE -> NKE', 'OKE -> NKY', 'OKE -> NEY', 'OKE -> KEY', 'OKE -> ONKE', 'OKE -> ONKY', 'OKE -> ONEY', 'OKE -> OKEY', 'OKE -> NKEY', 'OKE -> ONKEY', 'OKY -> M', 'OKY -> O', 'OKY -> N', 'OKY -> K', 'OKY -> E', 'OKY -> Y', 'OKY -> C', 'OKY -> MK', 'OKY -> ME', 'OKY -> MY', 'OKY -> ON', 'OKY -> OK', 'OKY -> OE', 'OKY -> OY', 'OKY -> NK', 'OKY -> NE', 'OKY -> NY', 'OKY -> KE', 'OKY -> KY', 'OKY -> KC', 'OKY -> EY', 'OKY -> MKE', 'OKY -> MKY', 'OKY -> ONK', 'OKY -> ONE', 'OKY -> ONY', 'OKY -> OKE', 'OKY -> OEY', 'OKY -> NKE', 'OKY -> NKY', 'OKY -> NEY', 'OKY -> KEY', 'OKY -> ONKE', 'OKY -> ONKY', 'OKY -> ONEY', 'OKY -> OKEY', 'OKY -> NKEY', 'OKY -> ONKEY', 'OEY -> M', 'OEY -> O', 'OEY -> N', 'OEY -> K', 'OEY -> E', 'OEY -> Y', 'OEY -> C', 'OEY -> MK', 'OEY -> ME', 'OEY -> MY', 'OEY -> ON', 'OEY -> OK', 'OEY -> OE', 'OEY -> OY', 'OEY -> NK', 'OEY -> NE', 'OEY -> NY', 'OEY -> KE', 'OEY -> KY', 'OEY -> KC', 'OEY -> EY', 'OEY -> MKE', 'OEY -> MKY', 'OEY -> ONK', 'OEY -> ONE', 'OEY -> ONY', 'OEY -> OKE', 'OEY -> OKY', 'OEY -> NKE', 'OEY -> NKY', 'OEY -> NEY', 'OEY -> KEY', 'OEY -> ONKE', 'OEY -> ONKY', 'OEY -> ONEY', 'OEY -> OKEY', 'OEY -> NKEY', 'OEY -> ONKEY', 'NKE -> M', 'NKE -> O', 'NKE -> N', 'NKE -> K', 'NKE -> E', 'NKE -> Y', 'NKE -> C', 'NKE -> MK', 'NKE -> ME', 'NKE -> MY', 'NKE -> ON', 'NKE -> OK', 'NKE -> OE', 'NKE -> OY', 'NKE -> NK', 'NKE -> NE', 'NKE -> NY', 'NKE -> KE', 'NKE -> KY', 'NKE -> KC', 'NKE -> EY', 'NKE -> MKE', 'NKE -> MKY', 'NKE -> ONK', 'NKE -> ONE', 'NKE -> ONY', 'NKE -> OKE', 'NKE -> OKY', 'NKE -> OEY', 'NKE -> NKY', 'NKE -> NEY', 'NKE -> KEY', 'NKE -> ONKE', 'NKE -> ONKY', 'NKE -> ONEY', 'NKE -> OKEY', 'NKE -> NKEY', 'NKE -> ONKEY', 'NKY -> M', 'NKY -> O', 'NKY -> N', 'NKY -> K', 'NKY -> E', 'NKY -> Y', 'NKY -> C', 'NKY -> MK', 'NKY -> ME', 'NKY -> MY', 'NKY -> ON', 'NKY -> OK', 'NKY -> OE', 'NKY -> OY', 'NKY -> NK', 'NKY -> NE', 'NKY -> NY', 'NKY -> KE', 'NKY -> KY', 'NKY -> KC', 'NKY -> EY', 'NKY -> MKE', 'NKY -> MKY', 'NKY -> ONK', 'NKY -> ONE', 'NKY -> ONY', 'NKY -> OKE', 'NKY -> OKY', 'NKY -> OEY', 'NKY -> NKE', 'NKY -> NEY', 'NKY -> KEY', 'NKY -> ONKE', 'NKY -> ONKY', 'NKY -> ONEY', 'NKY -> OKEY', 'NKY -> NKEY', 'NKY -> ONKEY', 'NEY -> M', 'NEY -> O', 'NEY -> N', 'NEY -> K', 'NEY -> E', 'NEY -> Y', 'NEY -> C', 'NEY -> MK', 'NEY -> ME', 'NEY -> MY', 'NEY -> ON', 'NEY -> OK', 'NEY -> OE', 'NEY -> OY', 'NEY -> NK', 'NEY -> NE', 'NEY -> NY', 'NEY -> KE', 'NEY -> KY', 'NEY -> KC', 'NEY -> EY', 'NEY -> MKE', 'NEY -> MKY', 'NEY -> ONK', 'NEY -> ONE', 'NEY -> ONY', 'NEY -> OKE', 'NEY -> OKY', 'NEY -> OEY', 'NEY -> NKE', 'NEY -> NKY', 'NEY -> KEY', 'NEY -> ONKE', 'NEY -> ONKY', 'NEY -> ONEY', 'NEY -> OKEY', 'NEY -> NKEY', 'NEY -> ONKEY', 'KEY -> M', 'KEY -> O', 'KEY -> N', 'KEY -> K', 'KEY -> E', 'KEY -> Y', 'KEY -> C', 'KEY -> MK', 'KEY -> ME', 'KEY -> MY', 'KEY -> ON', 'KEY -> OK', 'KEY -> OE', 'KEY -> OY', 'KEY -> NK', 'KEY -> NE', 'KEY -> NY', 'KEY -> KE', 'KEY -> KY', 'KEY -> KC', 'KEY -> EY', 'KEY -> MKE', 'KEY -> MKY', 'KEY -> ONK', 'KEY -> ONE', 'KEY -> ONY', 'KEY -> OKE', 'KEY -> OKY', 'KEY -> OEY', 'KEY -> NKE', 'KEY -> NKY', 'KEY -> NEY', 'KEY -> ONKE', 'KEY -> ONKY', 'KEY -> ONEY', 'KEY -> OKEY', 'KEY -> NKEY', 'KEY -> ONKEY', 'ONKE -> M', 'ONKE -> O', 'ONKE -> N', 'ONKE -> K', 'ONKE -> E', 'ONKE -> Y', 'ONKE -> C', 'ONKE -> MK', 'ONKE -> ME', 'ONKE -> MY', 'ONKE -> ON', 'ONKE -> OK', 'ONKE -> OE', 'ONKE -> OY', 'ONKE -> NK', 'ONKE -> NE', 'ONKE -> NY', 'ONKE -> KE', 'ONKE -> KY', 'ONKE -> KC', 'ONKE -> EY', 'ONKE -> MKE', 'ONKE -> MKY', 'ONKE -> ONK', 'ONKE -> ONE', 'ONKE -> ONY', 'ONKE -> OKE', 'ONKE -> OKY', 'ONKE -> OEY', 'ONKE -> NKE', 'ONKE -> NKY', 'ONKE -> NEY', 'ONKE -> KEY', 'ONKE -> ONKY', 'ONKE -> ONEY', 'ONKE -> OKEY', 'ONKE -> NKEY', 'ONKE -> ONKEY', 'ONKY -> M', 'ONKY -> O', 'ONKY -> N', 'ONKY -> K', 'ONKY -> E', 'ONKY -> Y', 'ONKY -> C', 'ONKY -> MK', 'ONKY -> ME', 'ONKY -> MY', 'ONKY -> ON', 'ONKY -> OK', 'ONKY -> OE', 'ONKY -> OY', 'ONKY -> NK', 'ONKY -> NE', 'ONKY -> NY', 'ONKY -> KE', 'ONKY -> KY', 'ONKY -> KC', 'ONKY -> EY', 'ONKY -> MKE', 'ONKY -> MKY', 'ONKY -> ONK', 'ONKY -> ONE', 'ONKY -> ONY', 'ONKY -> OKE', 'ONKY -> OKY', 'ONKY -> OEY', 'ONKY -> NKE', 'ONKY -> NKY', 'ONKY -> NEY', 'ONKY -> KEY', 'ONKY -> ONKE', 'ONKY -> ONEY', 'ONKY -> OKEY', 'ONKY -> NKEY', 'ONKY -> ONKEY', 'ONEY -> M', 'ONEY -> O', 'ONEY -> N', 'ONEY -> K', 'ONEY -> E', 'ONEY -> Y', 'ONEY -> C', 'ONEY -> MK', 'ONEY -> ME', 'ONEY -> MY', 'ONEY -> ON', 'ONEY -> OK', 'ONEY -> OE', 'ONEY -> OY', 'ONEY -> NK', 'ONEY -> NE', 'ONEY -> NY', 'ONEY -> KE', 'ONEY -> KY', 'ONEY -> KC', 'ONEY -> EY', 'ONEY -> MKE', 'ONEY -> MKY', 'ONEY -> ONK', 'ONEY -> ONE', 'ONEY -> ONY', 'ONEY -> OKE', 'ONEY -> OKY', 'ONEY -> OEY', 'ONEY -> NKE', 'ONEY -> NKY', 'ONEY -> NEY', 'ONEY -> KEY', 'ONEY -> ONKE', 'ONEY -> ONKY', 'ONEY -> OKEY', 'ONEY -> NKEY', 'ONEY -> ONKEY', 'OKEY -> M', 'OKEY -> O', 'OKEY -> N', 'OKEY -> K', 'OKEY -> E', 'OKEY -> Y', 'OKEY -> C', 'OKEY -> MK', 'OKEY -> ME', 'OKEY -> MY', 'OKEY -> ON', 'OKEY -> OK', 'OKEY -> OE', 'OKEY -> OY', 'OKEY -> NK', 'OKEY -> NE', 'OKEY -> NY', 'OKEY -> KE', 'OKEY -> KY', 'OKEY -> KC', 'OKEY -> EY', 'OKEY -> MKE', 'OKEY -> MKY', 'OKEY -> ONK', 'OKEY -> ONE', 'OKEY -> ONY', 'OKEY -> OKE', 'OKEY -> OKY', 'OKEY -> OEY', 'OKEY -> NKE', 'OKEY -> NKY', 'OKEY -> NEY', 'OKEY -> KEY', 'OKEY -> ONKE', 'OKEY -> ONKY', 'OKEY -> ONEY', 'OKEY -> NKEY', 'OKEY -> ONKEY', 'NKEY -> M', 'NKEY -> O', 'NKEY -> N', 'NKEY -> K', 'NKEY -> E', 'NKEY -> Y', 'NKEY -> C', 'NKEY -> MK', 'NKEY -> ME', 'NKEY -> MY', 'NKEY -> ON', 'NKEY -> OK', 'NKEY -> OE', 'NKEY -> OY', 'NKEY -> NK', 'NKEY -> NE', 'NKEY -> NY', 'NKEY -> KE', 'NKEY -> KY', 'NKEY -> KC', 'NKEY -> EY', 'NKEY -> MKE', 'NKEY -> MKY', 'NKEY -> ONK', 'NKEY -> ONE', 'NKEY -> ONY', 'NKEY -> OKE', 'NKEY -> OKY', 'NKEY -> OEY', 'NKEY -> NKE', 'NKEY -> NKY', 'NKEY -> NEY', 'NKEY -> KEY', 'NKEY -> ONKE', 'NKEY -> ONKY', 'NKEY -> ONEY', 'NKEY -> OKEY', 'NKEY -> ONKEY', 'ONKEY -> M', 'ONKEY -> O', 'ONKEY -> N', 'ONKEY -> K', 'ONKEY -> E', 'ONKEY -> Y', 'ONKEY -> C', 'ONKEY -> MK', 'ONKEY -> ME', 'ONKEY -> MY', 'ONKEY -> ON', 'ONKEY -> OK', 'ONKEY -> OE', 'ONKEY -> OY', 'ONKEY -> NK', 'ONKEY -> NE', 'ONKEY -> NY', 'ONKEY -> KE', 'ONKEY -> KY', 'ONKEY -> KC', 'ONKEY -> EY', 'ONKEY -> MKE', 'ONKEY -> MKY', 'ONKEY -> ONK', 'ONKEY -> ONE', 'ONKEY -> ONY', 'ONKEY -> OKE', 'ONKEY -> OKY', 'ONKEY -> OEY', 'ONKEY -> NKE', 'ONKEY -> NKY', 'ONKEY -> NEY', 'ONKEY -> KEY', 'ONKEY -> ONKE', 'ONKEY -> ONKY', 'ONKEY -> ONEY', 'ONKEY -> OKEY', 'ONKEY -> NKEY']\n",
            "['M -> K', 'M -> E', 'M -> Y', 'M -> KE', 'M -> KY', 'O -> N', 'O -> K', 'O -> E', 'O -> Y', 'O -> NK', 'O -> NE', 'O -> NY', 'O -> KE', 'O -> KY', 'O -> EY', 'O -> NKE', 'O -> NKY', 'O -> NEY', 'O -> KEY', 'O -> NKEY', 'N -> K', 'N -> E', 'N -> Y', 'N -> KE', 'N -> KY', 'N -> EY', 'N -> KEY', 'K -> E', 'K -> Y', 'K -> C', 'K -> EY', 'E -> Y', 'MK -> E', 'MK -> Y', 'ON -> K', 'ON -> E', 'ON -> Y', 'ON -> KE', 'ON -> KY', 'ON -> EY', 'ON -> KEY', 'OK -> E', 'OK -> Y', 'OK -> EY', 'OE -> Y', 'NK -> E', 'NK -> Y', 'NK -> EY', 'NE -> Y', 'KE -> Y', 'ONK -> E', 'ONK -> Y', 'ONK -> EY', 'ONE -> Y', 'OKE -> Y', 'NKE -> Y', 'ONKE -> Y']\n",
            "{'M': 3, 'O': 3, 'N': 2, 'K': 5, 'E': 4, 'Y': 3, 'C': 2, 'MK': 3, 'ME': 3, 'MY': 2, 'ON': 2, 'OK': 3, 'OE': 3, 'OY': 2, 'NK': 2, 'NE': 2, 'NY': 2, 'KE': 4, 'KY': 3, 'KC': 2, 'EY': 3, 'MKE': 3, 'MKY': 2, 'ONK': 2, 'ONE': 2, 'ONY': 2, 'OKE': 3, 'OKY': 2, 'OEY': 2, 'NKE': 2, 'NKY': 2, 'NEY': 2, 'KEY': 3, 'ONKE': 2, 'ONKY': 2, 'ONEY': 2, 'OKEY': 2, 'NKEY': 2, 'ONKEY': 2}\n",
            "Lift for rule 'M -> K': 0.2\n",
            "Lift for rule 'M -> E': 0.25\n",
            "Lift for rule 'M -> Y': 0.2222222222222222\n",
            "Lift for rule 'M -> KE': 0.25\n",
            "Lift for rule 'M -> KY': 0.2222222222222222\n",
            "Lift for rule 'O -> N': 0.3333333333333333\n",
            "Lift for rule 'O -> K': 0.2\n",
            "Lift for rule 'O -> E': 0.25\n",
            "Lift for rule 'O -> Y': 0.2222222222222222\n",
            "Lift for rule 'O -> NK': 0.3333333333333333\n",
            "Lift for rule 'O -> NE': 0.3333333333333333\n",
            "Lift for rule 'O -> NY': 0.3333333333333333\n",
            "Lift for rule 'O -> KE': 0.25\n",
            "Lift for rule 'O -> KY': 0.2222222222222222\n",
            "Lift for rule 'O -> EY': 0.2222222222222222\n",
            "Lift for rule 'O -> NKE': 0.3333333333333333\n",
            "Lift for rule 'O -> NKY': 0.3333333333333333\n",
            "Lift for rule 'O -> NEY': 0.3333333333333333\n",
            "Lift for rule 'O -> KEY': 0.2222222222222222\n",
            "Lift for rule 'O -> NKEY': 0.3333333333333333\n",
            "Lift for rule 'N -> K': 0.2\n",
            "Lift for rule 'N -> E': 0.25\n",
            "Lift for rule 'N -> Y': 0.3333333333333333\n",
            "Lift for rule 'N -> KE': 0.25\n",
            "Lift for rule 'N -> KY': 0.3333333333333333\n",
            "Lift for rule 'N -> EY': 0.3333333333333333\n",
            "Lift for rule 'N -> KEY': 0.3333333333333333\n",
            "Lift for rule 'K -> E': 0.2\n",
            "Lift for rule 'K -> Y': 0.2\n",
            "Lift for rule 'K -> C': 0.2\n",
            "Lift for rule 'K -> EY': 0.2\n",
            "Lift for rule 'E -> Y': 0.25\n",
            "Lift for rule 'MK -> E': 0.25\n",
            "Lift for rule 'MK -> Y': 0.2222222222222222\n",
            "Lift for rule 'ON -> K': 0.2\n",
            "Lift for rule 'ON -> E': 0.25\n",
            "Lift for rule 'ON -> Y': 0.3333333333333333\n",
            "Lift for rule 'ON -> KE': 0.25\n",
            "Lift for rule 'ON -> KY': 0.3333333333333333\n",
            "Lift for rule 'ON -> EY': 0.3333333333333333\n",
            "Lift for rule 'ON -> KEY': 0.3333333333333333\n",
            "Lift for rule 'OK -> E': 0.25\n",
            "Lift for rule 'OK -> Y': 0.2222222222222222\n",
            "Lift for rule 'OK -> EY': 0.2222222222222222\n",
            "Lift for rule 'OE -> Y': 0.2222222222222222\n",
            "Lift for rule 'NK -> E': 0.25\n",
            "Lift for rule 'NK -> Y': 0.3333333333333333\n",
            "Lift for rule 'NK -> EY': 0.3333333333333333\n",
            "Lift for rule 'NE -> Y': 0.3333333333333333\n",
            "Lift for rule 'KE -> Y': 0.25\n",
            "Lift for rule 'ONK -> E': 0.25\n",
            "Lift for rule 'ONK -> Y': 0.3333333333333333\n",
            "Lift for rule 'ONK -> EY': 0.3333333333333333\n",
            "Lift for rule 'ONE -> Y': 0.3333333333333333\n",
            "Lift for rule 'OKE -> Y': 0.2222222222222222\n",
            "Lift for rule 'NKE -> Y': 0.3333333333333333\n",
            "Lift for rule 'ONKE -> Y': 0.3333333333333333\n",
            "  item        traan\n",
            "0    A     T1,T2,T3\n",
            "1    B        T1,T2\n",
            "2    c  T1,T3,T4,T2\n",
            "3    D     T1,T2,T5\n",
            "The data is already structured vertically.\n",
            "  itemset      TiD_set\n",
            "0       A     T1,T2,T3\n",
            "1       B        T1,T2\n",
            "2       c  T1,T3,T4,T2\n",
            "3       D     T1,T2,T5\n",
            "  itemset  TiD_set\n",
            "0       A    1,2,3\n",
            "1       B      1,2\n",
            "2       c  1,3,4,2\n",
            "3       D    1,2,5\n",
            "{'A': [1, 2, 3], 'B': [1, 2], 'c': [1, 3, 4, 2], 'D': [1, 2, 5]}\n",
            "['A', 'B', 'c', 'D', 'AB', 'Ac', 'AD', 'Bc', 'BD', 'cD', 'ABc', 'ABD', 'AcD', 'BcD', 'ABcD']\n",
            "['A -> B', 'A -> c', 'A -> D', 'A -> AB', 'A -> Ac', 'A -> AD', 'A -> Bc', 'A -> BD', 'A -> cD', 'A -> ABc', 'A -> ABD', 'A -> AcD', 'A -> BcD', 'A -> ABcD', 'B -> A', 'B -> c', 'B -> D', 'B -> AB', 'B -> Ac', 'B -> AD', 'B -> Bc', 'B -> BD', 'B -> cD', 'B -> ABc', 'B -> ABD', 'B -> AcD', 'B -> BcD', 'B -> ABcD', 'c -> A', 'c -> B', 'c -> D', 'c -> AB', 'c -> Ac', 'c -> AD', 'c -> Bc', 'c -> BD', 'c -> cD', 'c -> ABc', 'c -> ABD', 'c -> AcD', 'c -> BcD', 'c -> ABcD', 'D -> A', 'D -> B', 'D -> c', 'D -> AB', 'D -> Ac', 'D -> AD', 'D -> Bc', 'D -> BD', 'D -> cD', 'D -> ABc', 'D -> ABD', 'D -> AcD', 'D -> BcD', 'D -> ABcD', 'AB -> A', 'AB -> B', 'AB -> c', 'AB -> D', 'AB -> Ac', 'AB -> AD', 'AB -> Bc', 'AB -> BD', 'AB -> cD', 'AB -> ABc', 'AB -> ABD', 'AB -> AcD', 'AB -> BcD', 'AB -> ABcD', 'Ac -> A', 'Ac -> B', 'Ac -> c', 'Ac -> D', 'Ac -> AB', 'Ac -> AD', 'Ac -> Bc', 'Ac -> BD', 'Ac -> cD', 'Ac -> ABc', 'Ac -> ABD', 'Ac -> AcD', 'Ac -> BcD', 'Ac -> ABcD', 'AD -> A', 'AD -> B', 'AD -> c', 'AD -> D', 'AD -> AB', 'AD -> Ac', 'AD -> Bc', 'AD -> BD', 'AD -> cD', 'AD -> ABc', 'AD -> ABD', 'AD -> AcD', 'AD -> BcD', 'AD -> ABcD', 'Bc -> A', 'Bc -> B', 'Bc -> c', 'Bc -> D', 'Bc -> AB', 'Bc -> Ac', 'Bc -> AD', 'Bc -> BD', 'Bc -> cD', 'Bc -> ABc', 'Bc -> ABD', 'Bc -> AcD', 'Bc -> BcD', 'Bc -> ABcD', 'BD -> A', 'BD -> B', 'BD -> c', 'BD -> D', 'BD -> AB', 'BD -> Ac', 'BD -> AD', 'BD -> Bc', 'BD -> cD', 'BD -> ABc', 'BD -> ABD', 'BD -> AcD', 'BD -> BcD', 'BD -> ABcD', 'cD -> A', 'cD -> B', 'cD -> c', 'cD -> D', 'cD -> AB', 'cD -> Ac', 'cD -> AD', 'cD -> Bc', 'cD -> BD', 'cD -> ABc', 'cD -> ABD', 'cD -> AcD', 'cD -> BcD', 'cD -> ABcD', 'ABc -> A', 'ABc -> B', 'ABc -> c', 'ABc -> D', 'ABc -> AB', 'ABc -> Ac', 'ABc -> AD', 'ABc -> Bc', 'ABc -> BD', 'ABc -> cD', 'ABc -> ABD', 'ABc -> AcD', 'ABc -> BcD', 'ABc -> ABcD', 'ABD -> A', 'ABD -> B', 'ABD -> c', 'ABD -> D', 'ABD -> AB', 'ABD -> Ac', 'ABD -> AD', 'ABD -> Bc', 'ABD -> BD', 'ABD -> cD', 'ABD -> ABc', 'ABD -> AcD', 'ABD -> BcD', 'ABD -> ABcD', 'AcD -> A', 'AcD -> B', 'AcD -> c', 'AcD -> D', 'AcD -> AB', 'AcD -> Ac', 'AcD -> AD', 'AcD -> Bc', 'AcD -> BD', 'AcD -> cD', 'AcD -> ABc', 'AcD -> ABD', 'AcD -> BcD', 'AcD -> ABcD', 'BcD -> A', 'BcD -> B', 'BcD -> c', 'BcD -> D', 'BcD -> AB', 'BcD -> Ac', 'BcD -> AD', 'BcD -> Bc', 'BcD -> BD', 'BcD -> cD', 'BcD -> ABc', 'BcD -> ABD', 'BcD -> AcD', 'BcD -> ABcD', 'ABcD -> A', 'ABcD -> B', 'ABcD -> c', 'ABcD -> D', 'ABcD -> AB', 'ABcD -> Ac', 'ABcD -> AD', 'ABcD -> Bc', 'ABcD -> BD', 'ABcD -> cD', 'ABcD -> ABc', 'ABcD -> ABD', 'ABcD -> AcD', 'ABcD -> BcD']\n",
            "['A -> B', 'A -> c', 'A -> D', 'A -> Bc', 'A -> BD', 'A -> cD', 'A -> BcD', 'B -> c', 'B -> D', 'B -> cD', 'c -> D', 'AB -> c', 'AB -> D', 'AB -> cD', 'Ac -> D', 'Bc -> D', 'ABc -> D']\n",
            "{'A': 3, 'B': 2, 'c': 4, 'D': 3, 'AB': 2, 'Ac': 3, 'AD': 2, 'Bc': 2, 'BD': 2, 'cD': 2, 'ABc': 2, 'ABD': 2, 'AcD': 2, 'BcD': 2, 'ABcD': 2}\n",
            "Lift for rule 'A -> B': 0.3333333333333333\n",
            "Lift for rule 'A -> c': 0.25\n",
            "Lift for rule 'A -> D': 0.2222222222222222\n",
            "Lift for rule 'A -> Bc': 0.3333333333333333\n",
            "Lift for rule 'A -> BD': 0.3333333333333333\n",
            "Lift for rule 'A -> cD': 0.3333333333333333\n",
            "Lift for rule 'A -> BcD': 0.3333333333333333\n",
            "Lift for rule 'B -> c': 0.25\n",
            "Lift for rule 'B -> D': 0.3333333333333333\n",
            "Lift for rule 'B -> cD': 0.5\n",
            "Lift for rule 'c -> D': 0.16666666666666666\n",
            "Lift for rule 'AB -> c': 0.25\n",
            "Lift for rule 'AB -> D': 0.3333333333333333\n",
            "Lift for rule 'AB -> cD': 0.5\n",
            "Lift for rule 'Ac -> D': 0.2222222222222222\n",
            "Lift for rule 'Bc -> D': 0.3333333333333333\n",
            "Lift for rule 'ABc -> D': 0.3333333333333333\n"
          ]
        }
      ]
    }
  ]
}